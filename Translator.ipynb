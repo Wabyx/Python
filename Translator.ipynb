{
  "nbformat": 4,
  "nbformat_minor": 0,
  "metadata": {
    "colab": {
      "name": "Translator.ipynb",
      "provenance": []
    },
    "kernelspec": {
      "name": "python3",
      "display_name": "Python 3"
    },
    "language_info": {
      "name": "python"
    }
  },
  "cells": [
    {
      "cell_type": "code",
      "source": [
        "from googletrans import Translator\n",
        "translator = Translator()\n",
        "print(translator)\n",
        "\n",
        "sentence = input(\"언어를 감지할 문장을 입력해주세요 : \")\n",
        "dest = input(\"어떤 언어로 번역을 원하시나요?\")\n",
        "\n",
        "result = translator.translate(sentence, dest)\n",
        "detected = translator.detect(sentence)\n",
        "\n",
        "print(\"===========출 력 결 과===========\")\n",
        "print(detected.lang, \":\", sentence)\n",
        "print(result.dest, \":\", result.text)\n",
        "print(\"===============================\")"
      ],
      "metadata": {
        "colab": {
          "base_uri": "https://localhost:8080/"
        },
        "id": "gW1ibL7lMuwo",
        "outputId": "6f2c5a4b-8c42-4998-f27d-bb1c6ddb2c4e"
      },
      "execution_count": 8,
      "outputs": [
        {
          "output_type": "stream",
          "name": "stdout",
          "text": [
            "<googletrans.client.Translator object at 0x7f9b3df08f90>\n",
            "언어를 감지할 문장을 입력해주세요 : 김윤빈입니다.\n",
            "어떤 언어로 번역을 원하시나요?nl\n",
            "===========출 력 결 과===========\n",
            "ko : 김윤빈입니다.\n",
            "nl : Dit is Yunbin Kim.\n",
            "===============================\n"
          ]
        }
      ]
    }
  ]
}